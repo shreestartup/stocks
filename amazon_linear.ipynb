{
 "cells": [
  {
   "cell_type": "markdown",
   "metadata": {},
   "source": [
    "# Amazon Stock Price Prediction using Linear Regessior model"
   ]
  },
  {
   "cell_type": "code",
   "execution_count": 3,
   "metadata": {},
   "outputs": [],
   "source": [
    "from yahoo_fin.stock_info import get_data\n",
    "import pandas as pd\n",
    "import numpy as np"
   ]
  },
  {
   "cell_type": "code",
   "execution_count": 4,
   "metadata": {},
   "outputs": [],
   "source": [
    "ticker_list = [\"AAPL\",\"MSFT\",\"AMZN\",\"TSLA\",\"GOOGL\",\"NVDA\",\"FB\",\"UNH\",\"ACN\",\"ADBE\"]\n",
    "historical_datas = {}\n",
    "for ticker in ticker_list:\n",
    "    historical_datas[ticker]=get_data(ticker,start_date=\"2019-05-01\",end_date=\"2022-05-01\",index_as_date =True,interval=\"1d\")"
   ]
  },
  {
   "cell_type": "code",
   "execution_count": 5,
   "metadata": {},
   "outputs": [
    {
     "data": {
      "text/html": [
       "<div>\n",
       "<style scoped>\n",
       "    .dataframe tbody tr th:only-of-type {\n",
       "        vertical-align: middle;\n",
       "    }\n",
       "\n",
       "    .dataframe tbody tr th {\n",
       "        vertical-align: top;\n",
       "    }\n",
       "\n",
       "    .dataframe thead th {\n",
       "        text-align: right;\n",
       "    }\n",
       "</style>\n",
       "<table border=\"1\" class=\"dataframe\">\n",
       "  <thead>\n",
       "    <tr style=\"text-align: right;\">\n",
       "      <th></th>\n",
       "      <th>open</th>\n",
       "      <th>high</th>\n",
       "      <th>low</th>\n",
       "      <th>close</th>\n",
       "      <th>adjclose</th>\n",
       "      <th>volume</th>\n",
       "      <th>ticker</th>\n",
       "    </tr>\n",
       "  </thead>\n",
       "  <tbody>\n",
       "    <tr>\n",
       "      <td>2019-05-01</td>\n",
       "      <td>1933.089966</td>\n",
       "      <td>1943.640015</td>\n",
       "      <td>1910.550049</td>\n",
       "      <td>1911.520020</td>\n",
       "      <td>1911.520020</td>\n",
       "      <td>3117000</td>\n",
       "      <td>AMZN</td>\n",
       "    </tr>\n",
       "    <tr>\n",
       "      <td>2019-05-02</td>\n",
       "      <td>1913.329956</td>\n",
       "      <td>1921.550049</td>\n",
       "      <td>1881.869995</td>\n",
       "      <td>1900.819946</td>\n",
       "      <td>1900.819946</td>\n",
       "      <td>3962900</td>\n",
       "      <td>AMZN</td>\n",
       "    </tr>\n",
       "    <tr>\n",
       "      <td>2019-05-03</td>\n",
       "      <td>1949.000000</td>\n",
       "      <td>1964.400024</td>\n",
       "      <td>1936.000000</td>\n",
       "      <td>1962.459961</td>\n",
       "      <td>1962.459961</td>\n",
       "      <td>6381600</td>\n",
       "      <td>AMZN</td>\n",
       "    </tr>\n",
       "    <tr>\n",
       "      <td>2019-05-06</td>\n",
       "      <td>1917.979980</td>\n",
       "      <td>1959.000000</td>\n",
       "      <td>1910.500000</td>\n",
       "      <td>1950.550049</td>\n",
       "      <td>1950.550049</td>\n",
       "      <td>5417800</td>\n",
       "      <td>AMZN</td>\n",
       "    </tr>\n",
       "    <tr>\n",
       "      <td>2019-05-07</td>\n",
       "      <td>1939.989990</td>\n",
       "      <td>1949.099976</td>\n",
       "      <td>1903.380005</td>\n",
       "      <td>1921.000000</td>\n",
       "      <td>1921.000000</td>\n",
       "      <td>5902100</td>\n",
       "      <td>AMZN</td>\n",
       "    </tr>\n",
       "    <tr>\n",
       "      <td>...</td>\n",
       "      <td>...</td>\n",
       "      <td>...</td>\n",
       "      <td>...</td>\n",
       "      <td>...</td>\n",
       "      <td>...</td>\n",
       "      <td>...</td>\n",
       "      <td>...</td>\n",
       "    </tr>\n",
       "    <tr>\n",
       "      <td>2022-04-25</td>\n",
       "      <td>2880.459961</td>\n",
       "      <td>2924.429932</td>\n",
       "      <td>2846.129883</td>\n",
       "      <td>2921.479980</td>\n",
       "      <td>2921.479980</td>\n",
       "      <td>3093700</td>\n",
       "      <td>AMZN</td>\n",
       "    </tr>\n",
       "    <tr>\n",
       "      <td>2022-04-26</td>\n",
       "      <td>2896.000000</td>\n",
       "      <td>2897.120117</td>\n",
       "      <td>2778.590088</td>\n",
       "      <td>2787.820068</td>\n",
       "      <td>2787.820068</td>\n",
       "      <td>3876500</td>\n",
       "      <td>AMZN</td>\n",
       "    </tr>\n",
       "    <tr>\n",
       "      <td>2022-04-27</td>\n",
       "      <td>2803.830078</td>\n",
       "      <td>2838.969971</td>\n",
       "      <td>2715.669922</td>\n",
       "      <td>2763.340088</td>\n",
       "      <td>2763.340088</td>\n",
       "      <td>3566800</td>\n",
       "      <td>AMZN</td>\n",
       "    </tr>\n",
       "    <tr>\n",
       "      <td>2022-04-28</td>\n",
       "      <td>2843.560059</td>\n",
       "      <td>2918.750000</td>\n",
       "      <td>2806.000000</td>\n",
       "      <td>2891.929932</td>\n",
       "      <td>2891.929932</td>\n",
       "      <td>5865800</td>\n",
       "      <td>AMZN</td>\n",
       "    </tr>\n",
       "    <tr>\n",
       "      <td>2022-04-29</td>\n",
       "      <td>2596.979980</td>\n",
       "      <td>2615.219971</td>\n",
       "      <td>2432.500000</td>\n",
       "      <td>2485.629883</td>\n",
       "      <td>2485.629883</td>\n",
       "      <td>13616500</td>\n",
       "      <td>AMZN</td>\n",
       "    </tr>\n",
       "  </tbody>\n",
       "</table>\n",
       "<p>757 rows × 7 columns</p>\n",
       "</div>"
      ],
      "text/plain": [
       "                   open         high          low        close     adjclose  \\\n",
       "2019-05-01  1933.089966  1943.640015  1910.550049  1911.520020  1911.520020   \n",
       "2019-05-02  1913.329956  1921.550049  1881.869995  1900.819946  1900.819946   \n",
       "2019-05-03  1949.000000  1964.400024  1936.000000  1962.459961  1962.459961   \n",
       "2019-05-06  1917.979980  1959.000000  1910.500000  1950.550049  1950.550049   \n",
       "2019-05-07  1939.989990  1949.099976  1903.380005  1921.000000  1921.000000   \n",
       "...                 ...          ...          ...          ...          ...   \n",
       "2022-04-25  2880.459961  2924.429932  2846.129883  2921.479980  2921.479980   \n",
       "2022-04-26  2896.000000  2897.120117  2778.590088  2787.820068  2787.820068   \n",
       "2022-04-27  2803.830078  2838.969971  2715.669922  2763.340088  2763.340088   \n",
       "2022-04-28  2843.560059  2918.750000  2806.000000  2891.929932  2891.929932   \n",
       "2022-04-29  2596.979980  2615.219971  2432.500000  2485.629883  2485.629883   \n",
       "\n",
       "              volume ticker  \n",
       "2019-05-01   3117000   AMZN  \n",
       "2019-05-02   3962900   AMZN  \n",
       "2019-05-03   6381600   AMZN  \n",
       "2019-05-06   5417800   AMZN  \n",
       "2019-05-07   5902100   AMZN  \n",
       "...              ...    ...  \n",
       "2022-04-25   3093700   AMZN  \n",
       "2022-04-26   3876500   AMZN  \n",
       "2022-04-27   3566800   AMZN  \n",
       "2022-04-28   5865800   AMZN  \n",
       "2022-04-29  13616500   AMZN  \n",
       "\n",
       "[757 rows x 7 columns]"
      ]
     },
     "execution_count": 5,
     "metadata": {},
     "output_type": "execute_result"
    }
   ],
   "source": [
    "Amazon = historical_datas[\"AMZN\"]\n",
    "Amazon"
   ]
  },
  {
   "cell_type": "code",
   "execution_count": 7,
   "metadata": {},
   "outputs": [],
   "source": [
    "from sklearn.linear_model import LinearRegression\n",
    "from sklearn.model_selection import train_test_split\n",
    "from sklearn import metrics"
   ]
  },
  {
   "cell_type": "code",
   "execution_count": 9,
   "metadata": {},
   "outputs": [],
   "source": [
    "x = Amazon[['open','high','low','close','volume']].values\n",
    "y = Amazon['close'].values"
   ]
  },
  {
   "cell_type": "code",
   "execution_count": 30,
   "metadata": {},
   "outputs": [],
   "source": [
    "x_train,x_test,y_train,y_test = train_test_split(x,y,test_size=0.2,random_state=0)"
   ]
  },
  {
   "cell_type": "code",
   "execution_count": 12,
   "metadata": {},
   "outputs": [],
   "source": [
    "regressor = LinearRegression()"
   ]
  },
  {
   "cell_type": "code",
   "execution_count": 31,
   "metadata": {},
   "outputs": [
    {
     "data": {
      "text/plain": [
       "LinearRegression(copy_X=True, fit_intercept=True, n_jobs=None,\n",
       "         normalize=False)"
      ]
     },
     "execution_count": 31,
     "metadata": {},
     "output_type": "execute_result"
    }
   ],
   "source": [
    "regressor.fit(x_train,y_train)"
   ]
  },
  {
   "cell_type": "code",
   "execution_count": 32,
   "metadata": {},
   "outputs": [
    {
     "name": "stdout",
     "output_type": "stream",
     "text": [
      "[ 5.00561895e-14 -6.67946601e-14  1.32283507e-14  1.00000000e+00\n",
      "  1.70696790e-15]\n"
     ]
    }
   ],
   "source": [
    "print(regressor.coef_)"
   ]
  },
  {
   "cell_type": "code",
   "execution_count": 33,
   "metadata": {},
   "outputs": [
    {
     "name": "stdout",
     "output_type": "stream",
     "text": [
      "-6.809386832173914e-09\n"
     ]
    }
   ],
   "source": [
    "print(regressor.intercept_)"
   ]
  },
  {
   "cell_type": "code",
   "execution_count": 34,
   "metadata": {},
   "outputs": [],
   "source": [
    "predicted = regressor.predict(x_test)"
   ]
  },
  {
   "cell_type": "code",
   "execution_count": 35,
   "metadata": {},
   "outputs": [
    {
     "name": "stdout",
     "output_type": "stream",
     "text": [
      "[3561.57006836 3265.08007812 3334.6899414  1804.66003418 3099.95996094\n",
      " 1904.28002929 3286.58007812 1860.63000489 3110.2800293  1898.01000977\n",
      " 3175.11010742 2170.2199707  3182.69995117 1857.52001953 1792.28002929\n",
      " 1953.94995118 1869.67004394 3162.31005859 3311.37011719 3094.08007812\n",
      " 3443.62988282 3116.41992187 3399.4399414  1997.58996582 3204.39990234\n",
      " 3631.19995117 3195.68994141 3036.14990235 1901.05004883 1760.32995605\n",
      " 3259.94995117 2317.80004883 3194.5        3478.05004883 1739.83996582\n",
      " 3286.64990235 1822.68005371 3138.83007813 3298.98999023 1762.17004394\n",
      " 3104.19995117 1853.25       3375.98999023 1792.56994629 2572.67993164\n",
      " 2951.94995117 3172.6899414  3195.34008789 1900.81994629 3284.7199707\n",
      " 3299.17993164 1964.52001953 3437.36010742 3175.12011719 2379.61010742\n",
      " 3421.37011718 3349.64990234 2133.90991211 3421.57006836 2011.59997559\n",
      " 3448.13989257 1720.26000976 3318.11010742 3102.9699707  3472.5\n",
      " 3354.7199707  2600.86010742 3288.62011718 3416.         2367.91992188\n",
      " 2852.86010743 3308.63989258 3340.87988281 3176.39990234 1902.88000488\n",
      " 3675.73999024 3303.5        2961.9699707  3203.08007813 1776.29003906\n",
      " 3268.15991211 3499.12011719 1800.60998536 1836.43005371 3400.\n",
      " 2168.87011719 3055.69995117 1963.94995118 2011.         3229.83007812\n",
      " 3180.07006836 3334.34008789 3457.16992187 3223.90991211 2409.7800293\n",
      " 2039.86999512 1871.15002442 1793.40002441 3027.15991211 3022.4399414\n",
      " 1962.45996094 2965.91992187 2095.9699707  2986.55004883 3263.37988281\n",
      " 1745.53002929 2401.10009765 3033.35009766 3228.27001953 3440.15991211\n",
      " 2763.34008789 1830.00000001 3186.72998047 3178.35009766 3198.01000976\n",
      " 3241.95996094 3383.87011719 2376.         3580.04003906 3225.01000977\n",
      " 1784.92004394 2001.06994629 2446.73999024 2524.06005859 3174.05004883\n",
      " 3443.7199707  3311.87011719 3087.07006836 1913.90002441 3386.30004883\n",
      " 2017.41003418 2283.32006837 3200.         3159.5300293  3718.55004883\n",
      " 3101.48999023 1816.11999512 1855.31994629 3355.72998047 2009.90002441\n",
      " 3104.00000001 3177.29003906 3005.         3277.70996093 3161.4699707\n",
      " 3463.12011719 2887.         1748.7199707  1787.47998047 3292.11010742\n",
      " 3137.5        1864.7199707 ]\n"
     ]
    }
   ],
   "source": [
    "print(predicted)"
   ]
  },
  {
   "cell_type": "code",
   "execution_count": 36,
   "metadata": {},
   "outputs": [],
   "source": [
    "df = pd.DataFrame({'Actual':y_test.flatten(),'Predicted':predicted.flatten()})"
   ]
  },
  {
   "cell_type": "code",
   "execution_count": 37,
   "metadata": {},
   "outputs": [
    {
     "data": {
      "text/html": [
       "<div>\n",
       "<style scoped>\n",
       "    .dataframe tbody tr th:only-of-type {\n",
       "        vertical-align: middle;\n",
       "    }\n",
       "\n",
       "    .dataframe tbody tr th {\n",
       "        vertical-align: top;\n",
       "    }\n",
       "\n",
       "    .dataframe thead th {\n",
       "        text-align: right;\n",
       "    }\n",
       "</style>\n",
       "<table border=\"1\" class=\"dataframe\">\n",
       "  <thead>\n",
       "    <tr style=\"text-align: right;\">\n",
       "      <th></th>\n",
       "      <th>Actual</th>\n",
       "      <th>Predicted</th>\n",
       "    </tr>\n",
       "  </thead>\n",
       "  <tbody>\n",
       "    <tr>\n",
       "      <td>0</td>\n",
       "      <td>3561.570068</td>\n",
       "      <td>3561.570068</td>\n",
       "    </tr>\n",
       "    <tr>\n",
       "      <td>1</td>\n",
       "      <td>3265.080078</td>\n",
       "      <td>3265.080078</td>\n",
       "    </tr>\n",
       "    <tr>\n",
       "      <td>2</td>\n",
       "      <td>3334.689941</td>\n",
       "      <td>3334.689941</td>\n",
       "    </tr>\n",
       "    <tr>\n",
       "      <td>3</td>\n",
       "      <td>1804.660034</td>\n",
       "      <td>1804.660034</td>\n",
       "    </tr>\n",
       "    <tr>\n",
       "      <td>4</td>\n",
       "      <td>3099.959961</td>\n",
       "      <td>3099.959961</td>\n",
       "    </tr>\n",
       "    <tr>\n",
       "      <td>5</td>\n",
       "      <td>1904.280029</td>\n",
       "      <td>1904.280029</td>\n",
       "    </tr>\n",
       "    <tr>\n",
       "      <td>6</td>\n",
       "      <td>3286.580078</td>\n",
       "      <td>3286.580078</td>\n",
       "    </tr>\n",
       "    <tr>\n",
       "      <td>7</td>\n",
       "      <td>1860.630005</td>\n",
       "      <td>1860.630005</td>\n",
       "    </tr>\n",
       "    <tr>\n",
       "      <td>8</td>\n",
       "      <td>3110.280029</td>\n",
       "      <td>3110.280029</td>\n",
       "    </tr>\n",
       "    <tr>\n",
       "      <td>9</td>\n",
       "      <td>1898.010010</td>\n",
       "      <td>1898.010010</td>\n",
       "    </tr>\n",
       "    <tr>\n",
       "      <td>10</td>\n",
       "      <td>3175.110107</td>\n",
       "      <td>3175.110107</td>\n",
       "    </tr>\n",
       "    <tr>\n",
       "      <td>11</td>\n",
       "      <td>2170.219971</td>\n",
       "      <td>2170.219971</td>\n",
       "    </tr>\n",
       "    <tr>\n",
       "      <td>12</td>\n",
       "      <td>3182.699951</td>\n",
       "      <td>3182.699951</td>\n",
       "    </tr>\n",
       "    <tr>\n",
       "      <td>13</td>\n",
       "      <td>1857.520020</td>\n",
       "      <td>1857.520020</td>\n",
       "    </tr>\n",
       "    <tr>\n",
       "      <td>14</td>\n",
       "      <td>1792.280029</td>\n",
       "      <td>1792.280029</td>\n",
       "    </tr>\n",
       "    <tr>\n",
       "      <td>15</td>\n",
       "      <td>1953.949951</td>\n",
       "      <td>1953.949951</td>\n",
       "    </tr>\n",
       "    <tr>\n",
       "      <td>16</td>\n",
       "      <td>1869.670044</td>\n",
       "      <td>1869.670044</td>\n",
       "    </tr>\n",
       "    <tr>\n",
       "      <td>17</td>\n",
       "      <td>3162.310059</td>\n",
       "      <td>3162.310059</td>\n",
       "    </tr>\n",
       "    <tr>\n",
       "      <td>18</td>\n",
       "      <td>3311.370117</td>\n",
       "      <td>3311.370117</td>\n",
       "    </tr>\n",
       "    <tr>\n",
       "      <td>19</td>\n",
       "      <td>3094.080078</td>\n",
       "      <td>3094.080078</td>\n",
       "    </tr>\n",
       "    <tr>\n",
       "      <td>20</td>\n",
       "      <td>3443.629883</td>\n",
       "      <td>3443.629883</td>\n",
       "    </tr>\n",
       "    <tr>\n",
       "      <td>21</td>\n",
       "      <td>3116.419922</td>\n",
       "      <td>3116.419922</td>\n",
       "    </tr>\n",
       "    <tr>\n",
       "      <td>22</td>\n",
       "      <td>3399.439941</td>\n",
       "      <td>3399.439941</td>\n",
       "    </tr>\n",
       "    <tr>\n",
       "      <td>23</td>\n",
       "      <td>1997.589966</td>\n",
       "      <td>1997.589966</td>\n",
       "    </tr>\n",
       "    <tr>\n",
       "      <td>24</td>\n",
       "      <td>3204.399902</td>\n",
       "      <td>3204.399902</td>\n",
       "    </tr>\n",
       "  </tbody>\n",
       "</table>\n",
       "</div>"
      ],
      "text/plain": [
       "         Actual    Predicted\n",
       "0   3561.570068  3561.570068\n",
       "1   3265.080078  3265.080078\n",
       "2   3334.689941  3334.689941\n",
       "3   1804.660034  1804.660034\n",
       "4   3099.959961  3099.959961\n",
       "5   1904.280029  1904.280029\n",
       "6   3286.580078  3286.580078\n",
       "7   1860.630005  1860.630005\n",
       "8   3110.280029  3110.280029\n",
       "9   1898.010010  1898.010010\n",
       "10  3175.110107  3175.110107\n",
       "11  2170.219971  2170.219971\n",
       "12  3182.699951  3182.699951\n",
       "13  1857.520020  1857.520020\n",
       "14  1792.280029  1792.280029\n",
       "15  1953.949951  1953.949951\n",
       "16  1869.670044  1869.670044\n",
       "17  3162.310059  3162.310059\n",
       "18  3311.370117  3311.370117\n",
       "19  3094.080078  3094.080078\n",
       "20  3443.629883  3443.629883\n",
       "21  3116.419922  3116.419922\n",
       "22  3399.439941  3399.439941\n",
       "23  1997.589966  1997.589966\n",
       "24  3204.399902  3204.399902"
      ]
     },
     "execution_count": 37,
     "metadata": {},
     "output_type": "execute_result"
    }
   ],
   "source": [
    "df.head(25)"
   ]
  },
  {
   "cell_type": "code",
   "execution_count": 38,
   "metadata": {},
   "outputs": [
    {
     "name": "stdout",
     "output_type": "stream",
     "text": [
      "mean_absolute_error: 1.950311164029316e-09\n",
      "mean_squared_error: 6.1308629201393e-18\n",
      "root_mean_squared_error: 4.4162327429940964e-05\n"
     ]
    }
   ],
   "source": [
    "print('mean_absolute_error:',metrics.mean_absolute_error(y_test,predicted))\n",
    "print('mean_squared_error:',metrics.mean_squared_error(y_test,predicted))\n",
    "print('root_mean_squared_error:',np.sqrt(metrics.mean_absolute_error(y_test,predicted)))"
   ]
  },
  {
   "cell_type": "code",
   "execution_count": 40,
   "metadata": {},
   "outputs": [],
   "source": [
    "import matplotlib.pyplot as plt\n",
    "%matplotlib inline"
   ]
  },
  {
   "cell_type": "code",
   "execution_count": 41,
   "metadata": {},
   "outputs": [],
   "source": [
    "graph = df.head(25)"
   ]
  },
  {
   "cell_type": "code",
   "execution_count": 42,
   "metadata": {},
   "outputs": [
    {
     "data": {
      "text/plain": [
       "<matplotlib.axes._subplots.AxesSubplot at 0xf6475f0>"
      ]
     },
     "execution_count": 42,
     "metadata": {},
     "output_type": "execute_result"
    },
    {
     "data": {
      "image/png": "[encoded data removed]",
      "text/plain": [
       "<Figure size 432x288 with 1 Axes>"
      ]
     },
     "metadata": {
      "needs_background": "light"
     },
     "output_type": "display_data"
    }
   ],
   "source": [
    "graph.plot(kind='bar')"
   ]
  },
  {
   "cell_type": "code",
   "execution_count": null,
   "metadata": {},
   "outputs": [],
   "source": []
  }
 ],
 "metadata": {
  "kernelspec": {
   "display_name": "Python 3",
   "language": "python",
   "name": "python3"
  },
  "language_info": {
   "codemirror_mode": {
    "name": "ipython",
    "version": 3
   },
   "file_extension": ".py",
   "mimetype": "text/x-python",
   "name": "python",
   "nbconvert_exporter": "python",
   "pygments_lexer": "ipython3",
   "version": "3.7.0"
  }
 },
 "nbformat": 4,
 "nbformat_minor": 2
}
